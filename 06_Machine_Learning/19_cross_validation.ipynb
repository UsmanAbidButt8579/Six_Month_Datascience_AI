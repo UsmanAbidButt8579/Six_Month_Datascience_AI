{
 "cells": [
  {
   "attachments": {},
   "cell_type": "markdown",
   "metadata": {},
   "source": [
    "# **Cross Validation**\n",
    "\n",
    "* Cross validation is a technique to evaluate a model by splitting the data into a training and a test set.\n",
    "\n",
    "* The training set is used to train the model, while the test set is used to evaluate the model's performance.\n",
    "\n",
    "\n",
    "Cross-validation is a statistical technique used in machine learning and data analysis to evaluate how well a model is able to generalize to new data.\n",
    "\n",
    "In a prediction problem, a model is usually given a dataset of known data on which training is run (training dataset), and a dataset of unknown data (or first seen data) against which the model is tested (called the validation dataset or testing set).\n",
    "\n",
    "The basic idea is to divide the available data into two parts: \n",
    "1. a training set, which is used to train the model, and \n",
    "2. a validation set, which is used to evaluate the model's performance.\n",
    "\n",
    "## Types of CV:\n",
    "\n",
    "* **k-fold cross-validation**\n",
    "* **train-test split**\n",
    "* **leave-one-out cross-validation** (LOOCV)\n",
    "* **stratified cross-validation**\n",
    "* **Times series cross-validation**\n",
    "* **Group cross-validation**\n",
    "\n",
    "\n",
    "## Example of K-fold cross validation\n",
    "\n",
    "In `k-fold cross-validation`, the available data is divided into k equal parts or \"folds\". The model is then trained on k-1 of the folds and validated on the remaining fold. This process is repeated k times, with each fold being used once as the validation set. The results from each fold are then averaged to obtain an overall estimate of the model's performance.\n",
    "\n",
    "### **Summary:**\n",
    "\n",
    "In summary, cross-validation is a powerful technique for evaluating the performance of machine learning models and can help to ensure that our models are accurate, reliable, and able to generalize to new data."
   ]
  },
  {
   "cell_type": "code",
   "execution_count": 2,
   "metadata": {},
   "outputs": [
    {
     "name": "stdout",
     "output_type": "stream",
     "text": [
      "Scores for each fold: [0.93333333 0.96666667 0.93333333 0.93333333 1.        ]\n",
      "Mean score: 0.9533333333333334\n",
      "Standard deviation: 0.02666666666666666\n",
      "CPU times: user 5.35 ms, sys: 1.35 ms, total: 6.7 ms\n",
      "Wall time: 6.08 ms\n"
     ]
    }
   ],
   "source": [
    "%%time\n",
    "from sklearn.datasets import load_iris\n",
    "from sklearn.model_selection import cross_val_score\n",
    "from sklearn.naive_bayes import GaussianNB\n",
    "\n",
    "# Load the Iris dataset\n",
    "iris = load_iris()\n",
    "\n",
    "# Define the Gaussian Naive Bayes model\n",
    "nb = GaussianNB()\n",
    "\n",
    "# Perform k-fold cross-validation with k=5\n",
    "scores = cross_val_score(nb, iris.data, iris.target, cv=5, scoring='accuracy')\n",
    "\n",
    "# Print the scores for each fold and the mean score\n",
    "print(\"Scores for each fold:\", scores)\n",
    "print(\"Mean score:\", scores.mean())\n",
    "print(\"Standard deviation:\", scores.std())"
   ]
  },
  {
   "attachments": {},
   "cell_type": "markdown",
   "metadata": {},
   "source": [
    "# **K-fold Cross Validation vs. train_test split**\n",
    "\n",
    "K-fold cross-validation and train-test split are two popular techniques used in machine learning to evaluate the performance of a model. Here are some key differences between the two:\n",
    "\n",
    "1. **Data usage:** \n",
    "\n",
    ">In k-fold cross-validation, the data is split into k equal parts or \"folds\". The model is trained on k-1 of the folds and validated on the remaining fold. This process is repeated k times, with each fold being used once as the validation set. \n",
    "\n",
    "> In contrast, train-test split divides the data into two parts: a training set and a testing set, typically with a ratio of 70-30 or 80-20. The model is trained on the training set and evaluated on the testing set.\n",
    "\n",
    "2. **Data size:** \n",
    "> K-fold cross-validation is often used when the dataset is relatively small, as it allows for better use of the available data. \n",
    "\n",
    "> In contrast, train-test split is typically used when the dataset is larger, as it is faster to implement and may be sufficient for evaluating the model's performance.\n",
    "\n",
    "3. **Performance estimation:** \n",
    ">K-fold cross-validation provides a more accurate estimate of the model's performance, as it evaluates its performance on multiple independent subsets of the data. This helps to reduce the variance of the performance estimate and detect overfitting. \n",
    "\n",
    ">In contrast, train-test split provides a less accurate estimate of the model's performance, as it depends on the specific subset of the data used for testing.\n",
    "\n",
    "4. **Computation time:** \n",
    ">K-fold cross-validation can be computationally expensive, as it requires training and validating the model k times. \n",
    "\n",
    ">In contrast, train-test split is faster to implement and requires training and validating the model only once.\n",
    "\n",
    "Overall, `k-fold cross-validation is a more robust and accurate technique for evaluating the performance of a machine learning model, especially when the dataset is relatively small`. \n",
    "\n",
    "`Train-test split is a faster and simpler technique that can be used when the dataset is larger and a quick estimate of the model's performance is needed.`"
   ]
  },
  {
   "cell_type": "code",
   "execution_count": 5,
   "metadata": {},
   "outputs": [
    {
     "name": "stdout",
     "output_type": "stream",
     "text": [
      "Scores for each fold: [0.55102041 0.55102041 0.59183673 0.65306122 0.54166667]\n",
      "Mean score: 0.5777210884353741\n",
      "Standard deviation: 0.04147568336521195\n"
     ]
    }
   ],
   "source": [
    "from sklearn.model_selection import cross_val_score\n",
    "from sklearn.naive_bayes import GaussianNB\n",
    "from sklearn.model_selection import train_test_split\n",
    "import pandas as pd\n",
    "import numpy as np\n",
    "\n",
    "# Load the tips dataset\n",
    "tips = pd.read_csv('https://raw.githubusercontent.com/mwaskom/seaborn-data/master/tips.csv')\n",
    "\n",
    "# Define the features and target variable\n",
    "X = tips[['total_bill', 'tip', 'size']]\n",
    "y = tips['sex']\n",
    "\n",
    "# Define the Gaussian Naive Bayes model\n",
    "model = GaussianNB()\n",
    "\n",
    "# Perform k-fold cross-validation with k=5\n",
    "scores = cross_val_score(model, X, y, cv=5, scoring='accuracy')\n",
    "\n",
    "# Print the scores for each fold and the mean score\n",
    "print(\"Scores for each fold:\", scores)\n",
    "print(\"Mean score:\", scores.mean())\n",
    "print(\"Standard deviation:\", scores.std())"
   ]
  },
  {
   "attachments": {},
   "cell_type": "markdown",
   "metadata": {},
   "source": [
    "# How to plot k-fold CV?"
   ]
  },
  {
   "cell_type": "code",
   "execution_count": 6,
   "metadata": {},
   "outputs": [
    {
     "data": {
      "image/png": "[encoded data removed]",
      "text/plain": [
       "<Figure size 576x432 with 1 Axes>"
      ]
     },
     "metadata": {
      "needs_background": "light"
     },
     "output_type": "display_data"
    }
   ],
   "source": [
    "import numpy as np\n",
    "import matplotlib.pyplot as plt\n",
    "from sklearn.datasets import load_iris\n",
    "from sklearn.model_selection import cross_val_score\n",
    "from sklearn.tree import DecisionTreeClassifier\n",
    "\n",
    "# Load the iris dataset\n",
    "iris = load_iris()\n",
    "X = iris.data\n",
    "y = iris.target\n",
    "\n",
    "# Define the decision tree classifier\n",
    "clf = DecisionTreeClassifier()\n",
    "\n",
    "# Perform k-fold cross-validation with k=8\n",
    "scores = cross_val_score(clf, X, y, cv=8)\n",
    "\n",
    "# Plot the results\n",
    "plt.figure(figsize=(8,6))\n",
    "plt.plot(range(1,9), scores, color='blue', linestyle='dashed', marker='o', markerfacecolor='red', markersize=12)\n",
    "plt.title('K-Fold Cross-Validation Results')\n",
    "plt.xlabel('Fold Number')\n",
    "plt.ylabel('Accuracy')\n",
    "plt.ylim([0.5, 1.0])\n",
    "plt.show()\n"
   ]
  }
 ],
 "metadata": {
  "kernelspec": {
   "display_name": "python_ml",
   "language": "python",
   "name": "python3"
  },
  "language_info": {
   "codemirror_mode": {
    "name": "ipython",
    "version": 3
   },
   "file_extension": ".py",
   "mimetype": "text/x-python",
   "name": "python",
   "nbconvert_exporter": "python",
   "pygments_lexer": "ipython3",
   "version": "3.11.4"
  },
  "orig_nbformat": 4
 },
 "nbformat": 4,
 "nbformat_minor": 2
}
